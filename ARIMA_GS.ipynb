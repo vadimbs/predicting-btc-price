{
 "cells": [
  {
   "cell_type": "markdown",
   "metadata": {},
   "source": [
    "# ARIMA grid search "
   ]
  },
  {
   "cell_type": "markdown",
   "metadata": {},
   "source": [
    "Grid search ARIMA parameters for time series<br><br>\n",
    "This is a link to the parts of code that I used: <a href=\"https://machinelearningmastery.com/grid-search-arima-hyperparameters-with-python/\">machinelearningmastery.com</a>"
   ]
  },
  {
   "cell_type": "markdown",
   "metadata": {},
   "source": [
    "#### Import libraries"
   ]
  },
  {
   "cell_type": "code",
   "execution_count": 2,
   "metadata": {},
   "outputs": [],
   "source": [
    "#from libraries import *\n",
    "%run libraries.py"
   ]
  },
  {
   "cell_type": "code",
   "execution_count": 3,
   "metadata": {},
   "outputs": [
    {
     "data": {
      "text/html": [
       "<div>\n",
       "<style scoped>\n",
       "    .dataframe tbody tr th:only-of-type {\n",
       "        vertical-align: middle;\n",
       "    }\n",
       "\n",
       "    .dataframe tbody tr th {\n",
       "        vertical-align: top;\n",
       "    }\n",
       "\n",
       "    .dataframe thead th {\n",
       "        text-align: right;\n",
       "    }\n",
       "</style>\n",
       "<table border=\"1\" class=\"dataframe\">\n",
       "  <thead>\n",
       "    <tr style=\"text-align: right;\">\n",
       "      <th></th>\n",
       "      <th>close</th>\n",
       "    </tr>\n",
       "    <tr>\n",
       "      <th>timestamp</th>\n",
       "      <th></th>\n",
       "    </tr>\n",
       "  </thead>\n",
       "  <tbody>\n",
       "    <tr>\n",
       "      <th>2020-07-13</th>\n",
       "      <td>9200.00</td>\n",
       "    </tr>\n",
       "    <tr>\n",
       "      <th>2020-07-14</th>\n",
       "      <td>9116.00</td>\n",
       "    </tr>\n",
       "    <tr>\n",
       "      <th>2020-07-15</th>\n",
       "      <td>9156.00</td>\n",
       "    </tr>\n",
       "    <tr>\n",
       "      <th>2020-07-16</th>\n",
       "      <td>9044.02</td>\n",
       "    </tr>\n",
       "    <tr>\n",
       "      <th>2020-07-17</th>\n",
       "      <td>9087.00</td>\n",
       "    </tr>\n",
       "    <tr>\n",
       "      <th>...</th>\n",
       "      <td>...</td>\n",
       "    </tr>\n",
       "    <tr>\n",
       "      <th>2021-11-20</th>\n",
       "      <td>57372.00</td>\n",
       "    </tr>\n",
       "    <tr>\n",
       "      <th>2021-11-21</th>\n",
       "      <td>58518.88</td>\n",
       "    </tr>\n",
       "    <tr>\n",
       "      <th>2021-11-22</th>\n",
       "      <td>55600.00</td>\n",
       "    </tr>\n",
       "    <tr>\n",
       "      <th>2021-11-23</th>\n",
       "      <td>55250.00</td>\n",
       "    </tr>\n",
       "    <tr>\n",
       "      <th>2021-11-24</th>\n",
       "      <td>57506.26</td>\n",
       "    </tr>\n",
       "  </tbody>\n",
       "</table>\n",
       "<p>500 rows × 1 columns</p>\n",
       "</div>"
      ],
      "text/plain": [
       "               close\n",
       "timestamp           \n",
       "2020-07-13   9200.00\n",
       "2020-07-14   9116.00\n",
       "2020-07-15   9156.00\n",
       "2020-07-16   9044.02\n",
       "2020-07-17   9087.00\n",
       "...              ...\n",
       "2021-11-20  57372.00\n",
       "2021-11-21  58518.88\n",
       "2021-11-22  55600.00\n",
       "2021-11-23  55250.00\n",
       "2021-11-24  57506.26\n",
       "\n",
       "[500 rows x 1 columns]"
      ]
     },
     "execution_count": 3,
     "metadata": {},
     "output_type": "execute_result"
    }
   ],
   "source": [
    "ts = load_data()\n",
    "ts"
   ]
  },
  {
   "cell_type": "markdown",
   "metadata": {},
   "source": [
    "`p` is the order of the ‘Auto Regressive’ (AR) term. It refers to the number of lags of Y to be used as predictors.<br>\n",
    "`d` is the number of differencing required to make the time series stationary<br>\n",
    "`q` is the order of the ‘Moving Average’ (MA) term. It refers to the number of lagged forecast errors that should go into the ARIMA Model."
   ]
  },
  {
   "cell_type": "code",
   "execution_count": 4,
   "metadata": {},
   "outputs": [],
   "source": [
    "# evaluate an ARIMA model for a given order (p,d,q)\n",
    "def evaluate_arima_model(X, arima_order):\n",
    "\t# prepare training dataset\n",
    "\ttrain_size = int(len(X) * 0.66)\n",
    "\ttrain, test = X[0:train_size], X[train_size:]\n",
    "\thistory = [x for x in train]\n",
    "\t# make predictions\n",
    "\tpredictions = list()\n",
    "\tfor t in range(len(test)):\n",
    "\t\tmodel = ARIMA(history, order=arima_order)\n",
    "\t\tmodel_fit = model.fit()\n",
    "\t\tyhat = model_fit.forecast()[0]\n",
    "\t\tpredictions.append(yhat)\n",
    "\t\thistory.append(test[t])\n",
    "\t# calculate out of sample error\n",
    "\trmse = sqrt(mean_squared_error(test, predictions))\n",
    "\treturn rmse\n",
    "\n",
    "# evaluate combinations of p, d and q values for an ARIMA model\n",
    "def evaluate_models(dataset, p_values, d_values, q_values):\n",
    "\tdataset = dataset.astype('float32')\n",
    "\tbest_score, best_cfg = float(\"inf\"), None\n",
    "\tfor p in p_values:\n",
    "\t\tfor d in d_values:\n",
    "\t\t\tfor q in q_values:\n",
    "\t\t\t\torder = (p,d,q)\n",
    "\t\t\t\ttry:\n",
    "\t\t\t\t\trmse = evaluate_arima_model(dataset, order)\n",
    "\t\t\t\t\tif rmse < best_score:\n",
    "\t\t\t\t\t\tbest_score, best_cfg = rmse, order\n",
    "\t\t\t\t\tprint('ARIMA%s RMSE=%.3f' % (order,rmse))\n",
    "\t\t\t\texcept:\n",
    "\t\t\t\t\tcontinue\n",
    "\tprint('Best ARIMA%s RMSE=%.3f' % (best_cfg, best_score))"
   ]
  },
  {
   "cell_type": "markdown",
   "metadata": {},
   "source": [
    "#### Evaluate models with parameters in range 0-3"
   ]
  },
  {
   "cell_type": "code",
   "execution_count": 5,
   "metadata": {},
   "outputs": [
    {
     "name": "stdout",
     "output_type": "stream",
     "text": [
      "ARIMA(0, 0, 0) RMSE=17035.704\n",
      "ARIMA(0, 0, 1) RMSE=9317.318\n",
      "ARIMA(0, 0, 2) RMSE=6481.092\n",
      "ARIMA(0, 1, 0) RMSE=1688.545\n",
      "ARIMA(0, 1, 1) RMSE=1696.007\n",
      "ARIMA(0, 1, 2) RMSE=1695.224\n",
      "ARIMA(0, 2, 0) RMSE=2395.226\n",
      "ARIMA(0, 2, 1) RMSE=1684.978\n",
      "ARIMA(0, 2, 2) RMSE=1702.462\n",
      "ARIMA(1, 0, 0) RMSE=1693.760\n",
      "ARIMA(1, 0, 1) RMSE=1701.168\n",
      "ARIMA(1, 0, 2) RMSE=1701.120\n",
      "ARIMA(1, 1, 0) RMSE=1697.010\n",
      "ARIMA(1, 1, 1) RMSE=1695.053\n",
      "ARIMA(1, 1, 2) RMSE=1698.356\n",
      "ARIMA(1, 2, 0) RMSE=2147.467\n",
      "ARIMA(1, 2, 1) RMSE=1694.500\n",
      "ARIMA(1, 2, 2) RMSE=1703.231\n",
      "ARIMA(2, 0, 0) RMSE=1701.990\n",
      "ARIMA(2, 0, 1) RMSE=1701.362\n",
      "ARIMA(2, 0, 2) RMSE=1707.447\n",
      "ARIMA(2, 1, 0) RMSE=1696.038\n",
      "ARIMA(2, 1, 1) RMSE=1695.488\n",
      "ARIMA(2, 1, 2) RMSE=1698.798\n",
      "ARIMA(2, 2, 0) RMSE=2025.422\n",
      "ARIMA(2, 2, 1) RMSE=1688.074\n",
      "ARIMA(2, 2, 2) RMSE=1700.197\n",
      "Best ARIMA(0, 2, 1) RMSE=1684.978\n"
     ]
    }
   ],
   "source": [
    "p_values = range(0, 3)\n",
    "d_values = range(0, 3)\n",
    "q_values = range(0, 3)\n",
    "evaluate_models(ts.values, p_values, d_values, q_values)"
   ]
  },
  {
   "cell_type": "markdown",
   "metadata": {},
   "source": [
    "#### Try model with parameters Moving Average = 1 and number of differencing =  100 epoch"
   ]
  },
  {
   "cell_type": "code",
   "execution_count": 6,
   "metadata": {},
   "outputs": [
    {
     "name": "stdout",
     "output_type": "stream",
     "text": [
      "ARIMA(0, 100, 1) RMSE=5842013984032947214741933920508634151857724761929519375461646336.000\n",
      "Best ARIMA(0, 100, 1) RMSE=5842013984032947214741933920508634151857724761929519375461646336.000\n"
     ]
    }
   ],
   "source": [
    "evaluate_models(ts.values, [0], [100], [1])"
   ]
  },
  {
   "cell_type": "markdown",
   "metadata": {},
   "source": [
    "#### Try another grid search "
   ]
  },
  {
   "cell_type": "code",
   "execution_count": 6,
   "metadata": {},
   "outputs": [
    {
     "name": "stdout",
     "output_type": "stream",
     "text": [
      "ARIMA(1, 10, 0) RMSE=215909.057\n",
      "ARIMA(1, 30, 0) RMSE=12661235518727.168\n",
      "ARIMA(1, 50, 0) RMSE=3438293265844003328.000\n",
      "ARIMA(1, 70, 0) RMSE=2672301613192388963218039127408640.000\n",
      "Best ARIMA(1, 10, 0) RMSE=215909.057\n"
     ]
    }
   ],
   "source": [
    "p_values = [1]\n",
    "d_values = [10, 30, 50, 70, 90]\n",
    "q_values = [0]\n",
    "evaluate_models(ts.values, p_values, d_values, q_values)"
   ]
  },
  {
   "cell_type": "markdown",
   "metadata": {},
   "source": [
    "### Still best model is with AR = 0, MA = 1, and number of differencing = 2\n",
    "## ARIMA(0, 2, 1)"
   ]
  }
 ],
 "metadata": {
  "kernelspec": {
   "display_name": "Python 3",
   "language": "python",
   "name": "python3"
  },
  "language_info": {
   "codemirror_mode": {
    "name": "ipython",
    "version": 3
   },
   "file_extension": ".py",
   "mimetype": "text/x-python",
   "name": "python",
   "nbconvert_exporter": "python",
   "pygments_lexer": "ipython3",
   "version": "3.8.12"
  }
 },
 "nbformat": 4,
 "nbformat_minor": 4
}
